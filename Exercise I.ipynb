{
 "cells": [
  {
   "cell_type": "markdown",
   "id": "1107cd0a",
   "metadata": {},
   "source": [
    "### Exercise I: Data Cleaning and Preprocessing ###\n",
    "\n",
    "Clean the provided dataset (df) by identifying and handling missing values and outliers. Specifically replace missing values with the mean. Provide a brief explanation of the methods you used."
   ]
  },
  {
   "cell_type": "code",
   "execution_count": null,
   "id": "ad011a30",
   "metadata": {},
   "outputs": [],
   "source": [
    "import numpy as np\n",
    "import pandas as pd\n",
    "import matplotlib as mpl\n",
    "import statsmodels\n",
    "\n",
    "df = pd.read_csv('ModifiedData.csv', sep=';')"
   ]
  },
  {
   "cell_type": "markdown",
   "id": "23b022ab",
   "metadata": {},
   "source": [
    "#### Assistance provided by the LLM: ####"
   ]
  },
  {
   "cell_type": "code",
   "execution_count": null,
   "id": "a2b628ca",
   "metadata": {},
   "outputs": [],
   "source": [
    "# Identifying missing values\n",
    "missing_values = df.isnull().sum()\n",
    "print(missing_values)\n",
    "\n",
    "# Identifying outliers\n",
    "Q1 = df['column_name'].quantile(0.25)\n",
    "Q3 = df['column_name'].quantile(0.75)\n",
    "IQR = Q3 - Q1\n",
    "outliers = df[(df['column_name'] < Q1 - 1.5 * IQR) | (df['column_name'] > Q3 + 1.5 * IQR)]\n",
    "print(outliers)\n",
    "\n",
    "# Replacing missing values\n",
    "df['column_name'].fillna(df['column_name'].mean(), inplace=True)"
   ]
  },
  {
   "cell_type": "code",
   "execution_count": null,
   "id": "af48a2c7",
   "metadata": {},
   "outputs": [],
   "source": [
    "# What you type in here will not be saved! Please copy your final code onto the main page\n",
    "# Your TEMPORARY solution here:"
   ]
  }
 ],
 "metadata": {
  "kernelspec": {
   "display_name": "mainenv",
   "language": "python",
   "name": "mainenv"
  },
  "language_info": {
   "codemirror_mode": {
    "name": "ipython",
    "version": 3
   },
   "file_extension": ".py",
   "mimetype": "text/x-python",
   "name": "python",
   "nbconvert_exporter": "python",
   "pygments_lexer": "ipython3",
   "version": "3.11.3"
  }
 },
 "nbformat": 4,
 "nbformat_minor": 5
}
